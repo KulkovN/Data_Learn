{
 "cells": [
  {
   "cell_type": "markdown",
   "metadata": {},
   "source": [
    "# `My practice` work on PySpark"
   ]
  },
  {
   "cell_type": "code",
   "execution_count": 2,
   "metadata": {},
   "outputs": [
    {
     "name": "stderr",
     "output_type": "stream",
     "text": [
      "21/12/06 13:13:46 WARN Utils: Your hostname, vostrolpt resolves to a loopback address: 127.0.1.1; using 172.21.112.248 instead (on interface eth0)\n",
      "21/12/06 13:13:46 WARN Utils: Set SPARK_LOCAL_IP if you need to bind to another address\n",
      "WARNING: An illegal reflective access operation has occurred\n",
      "WARNING: Illegal reflective access by org.apache.spark.unsafe.Platform (file:/mnt/c/Users/kulko/Desktop/%d0%a3%d1%87%d0%b5%d0%b1%d0%b0/pyspqrk-practice/envirment/lib/python3.8/site-packages/pyspark/jars/spark-unsafe_2.12-3.2.0.jar) to constructor java.nio.DirectByteBuffer(long,int)\n",
      "WARNING: Please consider reporting this to the maintainers of org.apache.spark.unsafe.Platform\n",
      "WARNING: Use --illegal-access=warn to enable warnings of further illegal reflective access operations\n",
      "WARNING: All illegal access operations will be denied in a future release\n",
      "Using Spark's default log4j profile: org/apache/spark/log4j-defaults.properties\n",
      "Setting default log level to \"WARN\".\n",
      "To adjust logging level use sc.setLogLevel(newLevel). For SparkR, use setLogLevel(newLevel).\n",
      "21/12/06 13:13:48 WARN NativeCodeLoader: Unable to load native-hadoop library for your platform... using builtin-java classes where applicable\n"
     ]
    },
    {
     "data": {
      "text/html": [
       "\n",
       "            <div>\n",
       "                <p><b>SparkSession - in-memory</b></p>\n",
       "                \n",
       "        <div>\n",
       "            <p><b>SparkContext</b></p>\n",
       "\n",
       "            <p><a href=\"http://172.21.112.248:4040\">Spark UI</a></p>\n",
       "\n",
       "            <dl>\n",
       "              <dt>Version</dt>\n",
       "                <dd><code>v3.2.0</code></dd>\n",
       "              <dt>Master</dt>\n",
       "                <dd><code>local[*]</code></dd>\n",
       "              <dt>AppName</dt>\n",
       "                <dd><code>My_practice_1-file_3</code></dd>\n",
       "            </dl>\n",
       "        </div>\n",
       "        \n",
       "            </div>\n",
       "        "
      ],
      "text/plain": [
       "<pyspark.sql.session.SparkSession at 0x7f81377afb80>"
      ]
     },
     "execution_count": 2,
     "metadata": {},
     "output_type": "execute_result"
    }
   ],
   "source": [
    "# создание SparkSession\n",
    "from pyspark.sql import SparkSession\n",
    "from fields import *\n",
    "\n",
    "spark = SparkSession.builder.appName(\"My_practice_1-file_3\").getOrCreate()\n",
    "# проверяем запуск спарка: \n",
    "spark"
   ]
  },
  {
   "cell_type": "markdown",
   "metadata": {},
   "source": [
    "`builder` - строительство сессии;\n",
    "`getOrCreate` - \n",
    "`appName` - "
   ]
  },
  {
   "cell_type": "markdown",
   "metadata": {},
   "source": [
    "# Четение данных (текст)"
   ]
  },
  {
   "cell_type": "code",
   "execution_count": 3,
   "metadata": {},
   "outputs": [
    {
     "name": "stderr",
     "output_type": "stream",
     "text": []
    },
    {
     "data": {
      "text/plain": [
       "DataFrame[_c0: string, _c1: string, _c2: string, _c3: string, _c4: string, _c5: string, _c6: string, _c7: string, _c8: string, _c9: string, _c10: string, _c11: string, _c12: string, _c13: string, _c14: string, _c15: string, _c16: string, _c17: string, _c18: string, _c19: string, _c20: string, _c21: string, _c22: string, _c23: string, _c24: string, _c25: string, _c26: string, _c27: string, _c28: string, _c29: string]"
      ]
     },
     "execution_count": 3,
     "metadata": {},
     "output_type": "execute_result"
    }
   ],
   "source": [
    "spark.read.format('csv').load('data/cars.csv')"
   ]
  },
  {
   "cell_type": "markdown",
   "metadata": {},
   "source": [
    "`read` - метод чтения спарком\n",
    "`format` - задача формата \n",
    "`load` - задача пути (откуда читать)"
   ]
  },
  {
   "cell_type": "code",
   "execution_count": 4,
   "metadata": {},
   "outputs": [
    {
     "data": {
      "text/plain": [
       "DataFrame[manufacturer_name: string, model_name: string, transmission: string, color: string, odometer_value: string, year_produced: string, engine_fuel: string, engine_has_gas: string, engine_type: string, engine_capacity: string, body_type: string, has_warranty: string, state: string, drivetrain: string, price_usd: string, is_exchangeable: string, location_region: string, number_of_photos: string, up_counter: string, feature_0: string, feature_1: string, feature_2: string, feature_3: string, feature_4: string, feature_5: string, feature_6: string, feature_7: string, feature_8: string, feature_9: string, duration_listed: string]"
      ]
     },
     "execution_count": 4,
     "metadata": {},
     "output_type": "execute_result"
    }
   ],
   "source": [
    "# добавим использование метода(модификатор) spark.read.format().optiom(\"typeValue\", \"boolValue\")\n",
    "df = spark.read.format('csv').option(\n",
    "    'header', 'true').load('data/cars.csv')\n",
    "df"
   ]
  },
  {
   "cell_type": "markdown",
   "metadata": {},
   "source": [
    "# Смотрим на данные в df"
   ]
  },
  {
   "cell_type": "markdown",
   "metadata": {},
   "source": [
    ".show() - покажет все таблицы\n",
    "у этого метода есть параметр (vertical)\n",
    "Дополнительный параметр `vertical=True` выведет каждую строку данных построчно в виде `колонка | значение`\n",
    "\n",
    "перед самим параметром можно установить кол-во строк под вывод"
   ]
  },
  {
   "cell_type": "code",
   "execution_count": 5,
   "metadata": {},
   "outputs": [
    {
     "name": "stderr",
     "output_type": "stream",
     "text": [
      "21/12/06 13:14:05 WARN package: Truncated the string representation of a plan since it was too large. This behavior can be adjusted by setting 'spark.sql.debug.maxToStringFields'.\n"
     ]
    },
    {
     "name": "stdout",
     "output_type": "stream",
     "text": [
      "-RECORD 0-------------------------\n",
      " manufacturer_name | Subaru       \n",
      " model_name        | Outback      \n",
      " transmission      | automatic    \n",
      " color             | silver       \n",
      " odometer_value    | 190000       \n",
      " year_produced     | 2010         \n",
      " engine_fuel       | gasoline     \n",
      " engine_has_gas    | False        \n",
      " engine_type       | gasoline     \n",
      " engine_capacity   | 2.5          \n",
      " body_type         | universal    \n",
      " has_warranty      | False        \n",
      " state             | owned        \n",
      " drivetrain        | all          \n",
      " price_usd         | 10900.0      \n",
      " is_exchangeable   | False        \n",
      " location_region   | Минская обл. \n",
      " number_of_photos  | 9            \n",
      " up_counter        | 13           \n",
      " feature_0         | False        \n",
      " feature_1         | True         \n",
      " feature_2         | True         \n",
      " feature_3         | True         \n",
      " feature_4         | False        \n",
      " feature_5         | True         \n",
      " feature_6         | False        \n",
      " feature_7         | True         \n",
      " feature_8         | True         \n",
      " feature_9         | True         \n",
      " duration_listed   | 16           \n",
      "only showing top 1 row\n",
      "\n"
     ]
    }
   ],
   "source": [
    "df.show(1, vertical=True)\n",
    "# print(type(df))"
   ]
  },
  {
   "cell_type": "markdown",
   "metadata": {},
   "source": [
    "# DataFrame API"
   ]
  },
  {
   "cell_type": "markdown",
   "metadata": {},
   "source": [
    "## .select()\n",
    "это уже очень похожий на стандартный sql-запрос -> код"
   ]
  },
  {
   "cell_type": "code",
   "execution_count": 6,
   "metadata": {},
   "outputs": [
    {
     "name": "stdout",
     "output_type": "stream",
     "text": [
      "+-----------------+----------+\n",
      "|manufacturer_name|model_name|\n",
      "+-----------------+----------+\n",
      "|           Subaru|   Outback|\n",
      "|           Subaru|   Outback|\n",
      "|           Subaru|  Forester|\n",
      "|           Subaru|   Impreza|\n",
      "|           Subaru|    Legacy|\n",
      "+-----------------+----------+\n",
      "only showing top 5 rows\n",
      "\n"
     ]
    }
   ],
   "source": [
    "# я указываю имена полей переменными в качестве аргументов метода .select(), \n",
    "# потому что они есть в отдельном питонячем файле fields.py\n",
    "# в противном случае, поля нужно писать в строке, зная каждое из них\n",
    "\n",
    "df.select(manufacturer_name, model_name).show(5)"
   ]
  },
  {
   "cell_type": "markdown",
   "metadata": {},
   "source": [
    "### Другой вариант обращения, по аналогии с pandas"
   ]
  },
  {
   "cell_type": "code",
   "execution_count": 7,
   "metadata": {},
   "outputs": [
    {
     "name": "stdout",
     "output_type": "stream",
     "text": [
      "+-----------------+----------+\n",
      "|manufacturer_name|model_name|\n",
      "+-----------------+----------+\n",
      "|           Subaru|   Outback|\n",
      "|           Subaru|   Outback|\n",
      "|           Subaru|  Forester|\n",
      "|           Subaru|   Impreza|\n",
      "|           Subaru|    Legacy|\n",
      "+-----------------+----------+\n",
      "only showing top 5 rows\n",
      "\n"
     ]
    }
   ],
   "source": [
    "# передача по ключу, как в pandas\n",
    "df.select(df[manufacturer_name], df[model_name]).show(5)"
   ]
  },
  {
   "cell_type": "markdown",
   "metadata": {},
   "source": [
    "### или, используя пакет function, а именно методом functions.col\n"
   ]
  },
  {
   "cell_type": "code",
   "execution_count": 8,
   "metadata": {},
   "outputs": [
    {
     "name": "stdout",
     "output_type": "stream",
     "text": [
      "+-----------------+----------+\n",
      "|manufacturer_name|model_name|\n",
      "+-----------------+----------+\n",
      "|           Subaru|   Outback|\n",
      "|           Subaru|   Outback|\n",
      "|           Subaru|  Forester|\n",
      "|           Subaru|   Impreza|\n",
      "|           Subaru|    Legacy|\n",
      "+-----------------+----------+\n",
      "only showing top 5 rows\n",
      "\n"
     ]
    }
   ],
   "source": [
    "import pyspark.sql.functions as F\n",
    "df.select(F.col(manufacturer_name), F.col(model_name)).show(5)"
   ]
  },
  {
   "cell_type": "markdown",
   "metadata": {},
   "source": [
    "# .filter()\n",
    "как писать условие фильтрации возврата запросов"
   ]
  },
  {
   "cell_type": "code",
   "execution_count": 9,
   "metadata": {},
   "outputs": [
    {
     "name": "stdout",
     "output_type": "stream",
     "text": [
      "+-----------------+----------+------------+-----+\n",
      "|manufacturer_name|model_name|transmission|state|\n",
      "+-----------------+----------+------------+-----+\n",
      "|           Subaru|   Outback|   automatic|owned|\n",
      "|           Subaru|   Outback|   automatic|owned|\n",
      "|           Subaru|  Forester|   automatic|owned|\n",
      "|           Subaru|   Impreza|  mechanical|owned|\n",
      "|           Subaru|    Legacy|   automatic|owned|\n",
      "+-----------------+----------+------------+-----+\n",
      "only showing top 5 rows\n",
      "\n"
     ]
    }
   ],
   "source": [
    "# отфилтруем только машины марки Subaru\n",
    "df.select(manufacturer_name, model_name,\n",
    "        transmission, state).filter(\n",
    "        \"manufacturer_name='Subaru'\").show(5)\n",
    "\n",
    "\n",
    "# df.select(manufacturer_name, color,\n",
    "#         engine_fuel, state).filter(\n",
    "#                 \"engine_fuel='gasoline'\\\n",
    "#                 and\\\n",
    "#                 state != 'owned'\\\n",
    "#                 and state != 'new'\").show(300)"
   ]
  },
  {
   "cell_type": "markdown",
   "metadata": {},
   "source": [
    "можно писать филтры цепочкой"
   ]
  },
  {
   "cell_type": "code",
   "execution_count": 10,
   "metadata": {},
   "outputs": [
    {
     "name": "stdout",
     "output_type": "stream",
     "text": [
      "+-----------------+----------+------------+-----+\n",
      "|manufacturer_name|model_name|transmission|state|\n",
      "+-----------------+----------+------------+-----+\n",
      "|           Subaru|   Outback|   automatic|owned|\n",
      "|           Subaru|   Outback|   automatic|owned|\n",
      "|           Subaru|  Forester|   automatic|owned|\n",
      "|           Subaru|    Legacy|   automatic|owned|\n",
      "|           Subaru|   Outback|   automatic|owned|\n",
      "+-----------------+----------+------------+-----+\n",
      "only showing top 5 rows\n",
      "\n",
      "+-----------------+----------+------------+-----+\n",
      "|manufacturer_name|model_name|transmission|state|\n",
      "+-----------------+----------+------------+-----+\n",
      "|           Subaru|   Outback|   automatic|owned|\n",
      "|           Subaru|   Outback|   automatic|owned|\n",
      "|           Subaru|  Forester|   automatic|owned|\n",
      "|           Subaru|    Legacy|   automatic|owned|\n",
      "|           Subaru|   Outback|   automatic|owned|\n",
      "+-----------------+----------+------------+-----+\n",
      "only showing top 5 rows\n",
      "\n"
     ]
    }
   ],
   "source": [
    "# оба варианта вернут одинаковый результат \n",
    "\n",
    "# пишем по аналогии с sql условных операторов \n",
    "df_and = df.select(\n",
    "    manufacturer_name, model_name, transmission, state)\\\n",
    "        .filter(\n",
    "            \"manufacturer_name='Subaru'\\\n",
    "            AND\\\n",
    "            transmission='automatic'\").show(5)\n",
    "\n",
    "# чередовать сами фильтры через точку\n",
    "df_dot = df.select(\n",
    "    manufacturer_name, model_name, transmission, state)\\\n",
    "        .filter(\n",
    "            \"manufacturer_name='Subaru'\")\\\n",
    "        .filter(\"transmission='automatic'\")\\\n",
    "        .show(5)"
   ]
  },
  {
   "cell_type": "markdown",
   "metadata": {},
   "source": [
    "### теперь рассмотрим весьма удобный способ чередования условий через метод .col()"
   ]
  },
  {
   "cell_type": "code",
   "execution_count": 11,
   "metadata": {},
   "outputs": [
    {
     "name": "stdout",
     "output_type": "stream",
     "text": [
      "+-----------------+----------+------------+-----+\n",
      "|manufacturer_name|model_name|transmission|state|\n",
      "+-----------------+----------+------------+-----+\n",
      "|           Subaru|   Outback|   automatic|owned|\n",
      "|           Subaru|   Outback|   automatic|owned|\n",
      "|           Subaru|  Forester|   automatic|owned|\n",
      "|           Subaru|    Legacy|   automatic|owned|\n",
      "|           Subaru|   Outback|   automatic|owned|\n",
      "+-----------------+----------+------------+-----+\n",
      "only showing top 5 rows\n",
      "\n"
     ]
    }
   ],
   "source": [
    "# пример 1\n",
    "df_dot = df.select(\n",
    "    manufacturer_name, model_name, transmission, state)\\\n",
    "        .filter(F.col(manufacturer_name) == 'Subaru')\\\n",
    "        .filter(F.col(transmission) =='automatic')\\\n",
    "        .show(5)"
   ]
  },
  {
   "cell_type": "markdown",
   "metadata": {},
   "source": [
    "Почему метод .col() наиболее предпочтительнее? :\n",
    "а) питонячий синтаксис;\n",
    "б) передача параметров для условий фильтрации - может прихожть из `вне`, и передаваться\n",
    "    в условия дефой / методом (смотри `пример 2`)\n",
    "в) "
   ]
  },
  {
   "cell_type": "code",
   "execution_count": 12,
   "metadata": {},
   "outputs": [
    {
     "name": "stderr",
     "output_type": "stream",
     "text": []
    },
    {
     "name": "stdout",
     "output_type": "stream",
     "text": [
      "+-----------------+--------------+------------+---------+\n",
      "|manufacturer_name|engine_has_gas|transmission|    state|\n",
      "+-----------------+--------------+------------+---------+\n",
      "|           Subaru|         False|   automatic|emergency|\n",
      "|           Subaru|         False|   automatic|emergency|\n",
      "|           Subaru|         False|   automatic|emergency|\n",
      "|           Subaru|         False|   automatic|emergency|\n",
      "+-----------------+--------------+------------+---------+\n",
      "\n"
     ]
    }
   ],
   "source": [
    "# пример 2\n",
    "subick = 'Subaru' # вот тут задали значение\n",
    "\n",
    "# df_dot = df.select(\n",
    "#     manufacturer_name, model_name, transmission, state)\\\n",
    "#         .filter(F.col(manufacturer_name) == subick).show(5)\n",
    "\n",
    "df_dot = df.select(\n",
    "    manufacturer_name,\n",
    "    engine_has_gas,\n",
    "    transmission,\n",
    "    state)\\\n",
    "        .filter(\n",
    "            F.col(manufacturer_name)== subick)\\\n",
    "            .filter(F.col(\n",
    "                transmission) == 'automatic')\\\n",
    "                    .filter(\n",
    "                        F.col(state) != 'owned')\\\n",
    "                            .show(5)\n",
    "\n",
    "        \n",
    "# кроме того - наши переменные из fields.py становятся явно указываемыми \n",
    "# (ссылающимися) именно в нужный конфиг, от куда их импортировали - только в этом варианте\n"
   ]
  },
  {
   "cell_type": "markdown",
   "metadata": {},
   "source": [
    "### метод .count()\n"
   ]
  },
  {
   "cell_type": "code",
   "execution_count": 13,
   "metadata": {},
   "outputs": [
    {
     "data": {
      "text/plain": [
       "38531"
      ]
     },
     "execution_count": 13,
     "metadata": {},
     "output_type": "execute_result"
    }
   ],
   "source": [
    "df.count()"
   ]
  },
  {
   "cell_type": "code",
   "execution_count": 14,
   "metadata": {},
   "outputs": [
    {
     "name": "stderr",
     "output_type": "stream",
     "text": []
    },
    {
     "name": "stdout",
     "output_type": "stream",
     "text": [
      "all_dtnc = 38491, filter_dtnc = 55\n"
     ]
    }
   ],
   "source": [
    "# для того, что бы исключить дубли\n",
    "all_dtnc = df.distinct().count()\n",
    "# --> вернет общее кол-во, т.к. все колонки уникальны: 38531\n",
    "filter_dtnc = df.select(manufacturer_name).distinct().count()\n",
    "# --> тут вернет уже отфилтрованное кол-во колонок : 55\n",
    "\n",
    "print(f'all_dtnc = {all_dtnc}, filter_dtnc = {filter_dtnc}')\n",
    "\n"
   ]
  },
  {
   "cell_type": "markdown",
   "metadata": {},
   "source": [
    "### .groupBy() и .orderBy()"
   ]
  },
  {
   "cell_type": "markdown",
   "metadata": {},
   "source": [
    "группировка и агрегация"
   ]
  },
  {
   "cell_type": "code",
   "execution_count": 15,
   "metadata": {},
   "outputs": [
    {
     "name": "stdout",
     "output_type": "stream",
     "text": [
      "+-----------------+-----+\n",
      "|manufacturer_name|count|\n",
      "+-----------------+-----+\n",
      "|       Volkswagen| 4243|\n",
      "|            Lexus|  213|\n",
      "|           Jaguar|   53|\n",
      "|            Rover|  235|\n",
      "|           Lancia|   92|\n",
      "+-----------------+-----+\n",
      "only showing top 5 rows\n",
      "\n",
      "+------------+-----+\n",
      "|transmission|count|\n",
      "+------------+-----+\n",
      "|   automatic|12898|\n",
      "|  mechanical|25633|\n",
      "+------------+-----+\n",
      "\n",
      "+---------+-----+\n",
      "|    state|count|\n",
      "+---------+-----+\n",
      "|      new|  438|\n",
      "|emergency|  370|\n",
      "|    owned|37723|\n",
      "+---------+-----+\n",
      "\n"
     ]
    }
   ],
   "source": [
    "# группировка выполняется аналогично SQL запросу\n",
    "# посчитаем кол-во каждой марки (упоминание ее в таблице)\n",
    "df.groupBy(manufacturer_name).count().show(5)\n",
    "df.groupBy(transmission).count().show(5)\n",
    "df.groupBy(state).count().show(5)"
   ]
  },
  {
   "cell_type": "markdown",
   "metadata": {},
   "source": [
    "`сортировка` по колонке возрастания"
   ]
  },
  {
   "cell_type": "code",
   "execution_count": 18,
   "metadata": {},
   "outputs": [
    {
     "name": "stdout",
     "output_type": "stream",
     "text": [
      "+-----------------+-----+\n",
      "|manufacturer_name|count|\n",
      "+-----------------+-----+\n",
      "|          Lincoln|   36|\n",
      "|       Great Wall|   36|\n",
      "|          Pontiac|   42|\n",
      "|              ЗАЗ|   42|\n",
      "|         Cadillac|   43|\n",
      "+-----------------+-----+\n",
      "only showing top 5 rows\n",
      "\n",
      "+-----------------+-----+\n",
      "|manufacturer_name|count|\n",
      "+-----------------+-----+\n",
      "|       Volkswagen| 4243|\n",
      "|             Opel| 2759|\n",
      "|              BMW| 2610|\n",
      "|             Ford| 2566|\n",
      "|          Renault| 2493|\n",
      "+-----------------+-----+\n",
      "only showing top 5 rows\n",
      "\n"
     ]
    }
   ],
   "source": [
    "# по возрастанию \n",
    "df.groupBy(manufacturer_name).count().orderBy(F.col(\"count\")).show(5)\n",
    "\n",
    "# df.groupBy(manufacturer_name).count().orderBy(F.col(manufacturer_name)).show(5)\n",
    "# print(\"--------------------------------------\\n\")\n",
    "\n",
    "# по убыванию\n",
    "df.groupBy(manufacturer_name).count().orderBy(F.col(\"count\").desc()).show(5)"
   ]
  },
  {
   "cell_type": "markdown",
   "metadata": {},
   "source": [
    "# .withColumnRanamed and .withColumn()"
   ]
  },
  {
   "cell_type": "markdown",
   "metadata": {},
   "source": [
    "### Переименование колонок:"
   ]
  },
  {
   "cell_type": "markdown",
   "metadata": {},
   "source": [
    "#### Rename-колонки. 1й аргумент == название текущей колонки, 2й аргумент == название новой колонки : \n"
   ]
  },
  {
   "cell_type": "code",
   "execution_count": 22,
   "metadata": {},
   "outputs": [
    {
     "name": "stdout",
     "output_type": "stream",
     "text": [
      "-RECORD 0---------------------------\n",
      " manufactured     | Subaru          \n",
      " model_name       | Outback         \n",
      " transmission     | automatic       \n",
      " color            | silver          \n",
      " odometer_value   | 190000          \n",
      " year_produced    | 2010            \n",
      " engine_fuel      | gasoline        \n",
      " engine_has_gas   | False           \n",
      " engine_type      | gasoline        \n",
      " engine_capacity  | 2.5             \n",
      " body_type        | universal       \n",
      " has_warranty     | False           \n",
      " state            | owned           \n",
      " drivetrain       | all             \n",
      " price_usd        | 10900.0         \n",
      " is_exchangeable  | False           \n",
      " location_region  | Минская обл.    \n",
      " number_of_photos | 9               \n",
      " up_counter       | 13              \n",
      " feature_0        | False           \n",
      " feature_1        | True            \n",
      " feature_2        | True            \n",
      " feature_3        | True            \n",
      " feature_4        | False           \n",
      " feature_5        | True            \n",
      " feature_6        | False           \n",
      " feature_7        | True            \n",
      " feature_8        | True            \n",
      " feature_9        | True            \n",
      " duration_listed  | 16              \n",
      "-RECORD 1---------------------------\n",
      " manufactured     | Subaru          \n",
      " model_name       | Outback         \n",
      " transmission     | automatic       \n",
      " color            | blue            \n",
      " odometer_value   | 290000          \n",
      " year_produced    | 2002            \n",
      " engine_fuel      | gasoline        \n",
      " engine_has_gas   | False           \n",
      " engine_type      | gasoline        \n",
      " engine_capacity  | 3.0             \n",
      " body_type        | universal       \n",
      " has_warranty     | False           \n",
      " state            | owned           \n",
      " drivetrain       | all             \n",
      " price_usd        | 5000.0          \n",
      " is_exchangeable  | True            \n",
      " location_region  | Минская обл.    \n",
      " number_of_photos | 12              \n",
      " up_counter       | 54              \n",
      " feature_0        | False           \n",
      " feature_1        | True            \n",
      " feature_2        | False           \n",
      " feature_3        | False           \n",
      " feature_4        | True            \n",
      " feature_5        | True            \n",
      " feature_6        | False           \n",
      " feature_7        | False           \n",
      " feature_8        | False           \n",
      " feature_9        | True            \n",
      " duration_listed  | 83              \n",
      "-RECORD 2---------------------------\n",
      " manufactured     | Subaru          \n",
      " model_name       | Forester        \n",
      " transmission     | automatic       \n",
      " color            | red             \n",
      " odometer_value   | 402000          \n",
      " year_produced    | 2001            \n",
      " engine_fuel      | gasoline        \n",
      " engine_has_gas   | False           \n",
      " engine_type      | gasoline        \n",
      " engine_capacity  | 2.5             \n",
      " body_type        | suv             \n",
      " has_warranty     | False           \n",
      " state            | owned           \n",
      " drivetrain       | all             \n",
      " price_usd        | 2800.0          \n",
      " is_exchangeable  | True            \n",
      " location_region  | Минская обл.    \n",
      " number_of_photos | 4               \n",
      " up_counter       | 72              \n",
      " feature_0        | False           \n",
      " feature_1        | True            \n",
      " feature_2        | False           \n",
      " feature_3        | False           \n",
      " feature_4        | False           \n",
      " feature_5        | False           \n",
      " feature_6        | False           \n",
      " feature_7        | False           \n",
      " feature_8        | True            \n",
      " feature_9        | True            \n",
      " duration_listed  | 151             \n",
      "-RECORD 3---------------------------\n",
      " manufactured     | Subaru          \n",
      " model_name       | Impreza         \n",
      " transmission     | mechanical      \n",
      " color            | blue            \n",
      " odometer_value   | 10000           \n",
      " year_produced    | 1999            \n",
      " engine_fuel      | gasoline        \n",
      " engine_has_gas   | False           \n",
      " engine_type      | gasoline        \n",
      " engine_capacity  | 3.0             \n",
      " body_type        | sedan           \n",
      " has_warranty     | False           \n",
      " state            | owned           \n",
      " drivetrain       | all             \n",
      " price_usd        | 9999.0          \n",
      " is_exchangeable  | True            \n",
      " location_region  | Минская обл.    \n",
      " number_of_photos | 9               \n",
      " up_counter       | 42              \n",
      " feature_0        | True            \n",
      " feature_1        | False           \n",
      " feature_2        | False           \n",
      " feature_3        | False           \n",
      " feature_4        | False           \n",
      " feature_5        | False           \n",
      " feature_6        | False           \n",
      " feature_7        | False           \n",
      " feature_8        | False           \n",
      " feature_9        | False           \n",
      " duration_listed  | 86              \n",
      "-RECORD 4---------------------------\n",
      " manufactured     | Subaru          \n",
      " model_name       | Legacy          \n",
      " transmission     | automatic       \n",
      " color            | black           \n",
      " odometer_value   | 280000          \n",
      " year_produced    | 2001            \n",
      " engine_fuel      | gasoline        \n",
      " engine_has_gas   | False           \n",
      " engine_type      | gasoline        \n",
      " engine_capacity  | 2.5             \n",
      " body_type        | universal       \n",
      " has_warranty     | False           \n",
      " state            | owned           \n",
      " drivetrain       | all             \n",
      " price_usd        | 2134.11         \n",
      " is_exchangeable  | True            \n",
      " location_region  | Гомельская обл. \n",
      " number_of_photos | 14              \n",
      " up_counter       | 7               \n",
      " feature_0        | False           \n",
      " feature_1        | True            \n",
      " feature_2        | False           \n",
      " feature_3        | True            \n",
      " feature_4        | True            \n",
      " feature_5        | False           \n",
      " feature_6        | False           \n",
      " feature_7        | False           \n",
      " feature_8        | False           \n",
      " feature_9        | True            \n",
      " duration_listed  | 7               \n",
      "only showing top 5 rows\n",
      "\n"
     ]
    }
   ],
   "source": [
    "df.withColumnRenamed(manufacturer_name, \"manufactured\").show(5, vertical=True)\n",
    "# or\n",
    "# df.withColumnRenamed(manufacturer_name, \"manufactured\").select(\"manufactured\", transmission).show()"
   ]
  },
  {
   "cell_type": "markdown",
   "metadata": {},
   "source": [
    "#### Создание новой колонки. 1й аргумент == название новой колонки, 2й аргумент == выражение (обязательно использовать `col()`, если ссылаемся на другую колокну): "
   ]
  },
  {
   "cell_type": "code",
   "execution_count": 27,
   "metadata": {},
   "outputs": [
    {
     "name": "stdout",
     "output_type": "stream",
     "text": [
      "+-------------+---------+\n",
      "|year_produced|next_year|\n",
      "+-------------+---------+\n",
      "|         2010|   2011.0|\n",
      "|         2002|   2003.0|\n",
      "|         2001|   2002.0|\n",
      "|         1999|   2000.0|\n",
      "|         2001|   2002.0|\n",
      "|         2011|   2012.0|\n",
      "|         1998|   1999.0|\n",
      "|         2004|   2005.0|\n",
      "|         2010|   2011.0|\n",
      "|         1999|   2000.0|\n",
      "|         2003|   2004.0|\n",
      "|         2008|   2009.0|\n",
      "|         2002|   2003.0|\n",
      "|         2001|   2002.0|\n",
      "|         2011|   2012.0|\n",
      "|         2004|   2005.0|\n",
      "|         2005|   2006.0|\n",
      "|         2005|   2006.0|\n",
      "|         2014|   2015.0|\n",
      "|         2013|   2014.0|\n",
      "+-------------+---------+\n",
      "only showing top 20 rows\n",
      "\n"
     ]
    }
   ],
   "source": [
    "df.withColumn(\"next_year\", F.col(year_produced) + 1).select(year_produced, \"next_year\").show()"
   ]
  },
  {
   "cell_type": "markdown",
   "metadata": {},
   "source": [
    "# printSchema() and describe()"
   ]
  },
  {
   "cell_type": "code",
   "execution_count": 29,
   "metadata": {},
   "outputs": [
    {
     "name": "stdout",
     "output_type": "stream",
     "text": [
      "root\n",
      " |-- manufacturer_name: string (nullable = true)\n",
      " |-- model_name: string (nullable = true)\n",
      " |-- transmission: string (nullable = true)\n",
      " |-- color: string (nullable = true)\n",
      " |-- odometer_value: string (nullable = true)\n",
      " |-- year_produced: string (nullable = true)\n",
      " |-- engine_fuel: string (nullable = true)\n",
      " |-- engine_has_gas: string (nullable = true)\n",
      " |-- engine_type: string (nullable = true)\n",
      " |-- engine_capacity: string (nullable = true)\n",
      " |-- body_type: string (nullable = true)\n",
      " |-- has_warranty: string (nullable = true)\n",
      " |-- state: string (nullable = true)\n",
      " |-- drivetrain: string (nullable = true)\n",
      " |-- price_usd: string (nullable = true)\n",
      " |-- is_exchangeable: string (nullable = true)\n",
      " |-- location_region: string (nullable = true)\n",
      " |-- number_of_photos: string (nullable = true)\n",
      " |-- up_counter: string (nullable = true)\n",
      " |-- feature_0: string (nullable = true)\n",
      " |-- feature_1: string (nullable = true)\n",
      " |-- feature_2: string (nullable = true)\n",
      " |-- feature_3: string (nullable = true)\n",
      " |-- feature_4: string (nullable = true)\n",
      " |-- feature_5: string (nullable = true)\n",
      " |-- feature_6: string (nullable = true)\n",
      " |-- feature_7: string (nullable = true)\n",
      " |-- feature_8: string (nullable = true)\n",
      " |-- feature_9: string (nullable = true)\n",
      " |-- duration_listed: string (nullable = true)\n",
      "\n"
     ]
    }
   ],
   "source": [
    "# посмотреть как спарк разобра колонки дата-фрейма и к чему привел в процессе работы\n",
    "df.printSchema()"
   ]
  },
  {
   "cell_type": "markdown",
   "metadata": {},
   "source": [
    "#### Для вывода сводной статистики используется `.describe()`:"
   ]
  },
  {
   "cell_type": "code",
   "execution_count": 38,
   "metadata": {},
   "outputs": [
    {
     "name": "stdout",
     "output_type": "stream",
     "text": [
      "+-------+-----------------+------------+------------------+\n",
      "|summary|manufacturer_name|transmission|     year_produced|\n",
      "+-------+-----------------+------------+------------------+\n",
      "|  count|            38531|       38531|             38531|\n",
      "|   mean|             null|        null|2002.9437336170874|\n",
      "| stddev|             null|        null| 8.065730511309367|\n",
      "|    min|            Acura|   automatic|              1942|\n",
      "|    max|              УАЗ|  mechanical|              2019|\n",
      "+-------+-----------------+------------+------------------+\n",
      "\n"
     ]
    }
   ],
   "source": [
    "# df.describe().show(vertical=True)\n",
    "# or - specific column/columns\n",
    "df.select(manufacturer_name, transmission, year_produced).describe().show()"
   ]
  },
  {
   "cell_type": "code",
   "execution_count": 39,
   "metadata": {},
   "outputs": [],
   "source": [
    "spark.stop()"
   ]
  }
 ],
 "metadata": {
  "interpreter": {
   "hash": "b03ff88c1a697914527a9f03cc6543e3e28c7765eb81ab963149f260ac498da0"
  },
  "kernelspec": {
   "display_name": "Python 3.9.5 64-bit ('envi': venv)",
   "language": "python",
   "name": "python3"
  },
  "language_info": {
   "codemirror_mode": {
    "name": "ipython",
    "version": 3
   },
   "file_extension": ".py",
   "mimetype": "text/x-python",
   "name": "python",
   "nbconvert_exporter": "python",
   "pygments_lexer": "ipython3",
   "version": "3.8.10"
  },
  "orig_nbformat": 4
 },
 "nbformat": 4,
 "nbformat_minor": 2
}
