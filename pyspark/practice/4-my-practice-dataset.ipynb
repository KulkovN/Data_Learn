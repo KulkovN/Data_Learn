{
 "cells": [
  {
   "cell_type": "markdown",
   "metadata": {},
   "source": [
    "## `Практика PySpark` создание пайплайна"
   ]
  },
  {
   "cell_type": "markdown",
   "metadata": {},
   "source": [
    "**Задача**. Сделать пайплайн обработки файла `cars.csv`. \n",
    "\n",
    "Необходимо посчитать по каждому производителю (поле `manufacturer_name`):\n",
    "- `кол-во` объявлений\n",
    "- `средний год выпуска` автомобилей\n",
    "- `минимальную цену`\n",
    "- `максимальную цену`\n",
    "\n",
    "Выгрузить результат в `output.csv`."
   ]
  },
  {
   "cell_type": "code",
   "execution_count": 1,
   "metadata": {},
   "outputs": [
    {
     "name": "stderr",
     "output_type": "stream",
     "text": [
      "21/12/07 11:50:29 WARN Utils: Your hostname, vostrolpt resolves to a loopback address: 127.0.1.1; using 172.21.113.208 instead (on interface eth0)\n",
      "21/12/07 11:50:29 WARN Utils: Set SPARK_LOCAL_IP if you need to bind to another address\n",
      "WARNING: An illegal reflective access operation has occurred\n",
      "WARNING: Illegal reflective access by org.apache.spark.unsafe.Platform (file:/mnt/c/Users/kulko/Desktop/%d0%a3%d1%87%d0%b5%d0%b1%d0%b0/%d0%9c%d0%be%d0%b8%20%d0%bf%d1%80%d0%be%d0%b5%d0%ba%d1%82%d1%8b%20%d0%bf%d0%be%20%d0%b4%d0%b0%d0%bd%d0%bd%d1%8b%d0%bc/Data_Learn/env/lib/python3.8/site-packages/pyspark/jars/spark-unsafe_2.12-3.2.0.jar) to constructor java.nio.DirectByteBuffer(long,int)\n",
      "WARNING: Please consider reporting this to the maintainers of org.apache.spark.unsafe.Platform\n",
      "WARNING: Use --illegal-access=warn to enable warnings of further illegal reflective access operations\n",
      "WARNING: All illegal access operations will be denied in a future release\n",
      "Using Spark's default log4j profile: org/apache/spark/log4j-defaults.properties\n",
      "Setting default log level to \"WARN\".\n",
      "To adjust logging level use sc.setLogLevel(newLevel). For SparkR, use setLogLevel(newLevel).\n",
      "21/12/07 11:50:31 WARN NativeCodeLoader: Unable to load native-hadoop library for your platform... using builtin-java classes where applicable\n"
     ]
    }
   ],
   "source": [
    "from pyspark.sql import SparkSession, DataFrame\n",
    "import pyspark.sql.functions as F\n",
    "import pyspark.sql.types as t\n",
    "from fields import *\n",
    "\n",
    "\n",
    "def extractor(spark: SparkSession, path: str) -> DataFrame:\n",
    "    \"\"\"Вернет дф, прочитанный \n",
    "        по переданному пути. \n",
    "        Если путь не передан =\n",
    "        = прочтет файл дефолта \"\"\"\n",
    "    if not path:\n",
    "        path = 'data/cars.csv'\n",
    "    return spark.read.option('header', 'true').csv(path)\n",
    "\n",
    "\n",
    "def outputer(df: DataFrame) -> DataFrame:\n",
    "    \"\"\"Обработает полученный дф\n",
    "        Применям агрегирующие \n",
    "        функции, согласно задачам \"\"\"\n",
    "    # output =\n",
    "    return df.groupBy(manufacturer_name).agg(\n",
    "        # считаем объявления\n",
    "        F.count(manufacturer_name).alias(\"Кол-во объявлений\"),\n",
    "        # средний год выпуска машины. Не забыть окуглить \n",
    "        # до целых и привести к типу int через .t\n",
    "        F.round(F.avg(year_produced)).cast(\n",
    "            t.IntegerType()).alias(\"Средний год выпуска авто\"),\n",
    "        F.min(price_usd).alias(\"Минимальная цена\"),\n",
    "        F.max(price_usd).alias(\"Максимальная цена\"),\n",
    "    ).orderBy(F.col(manufacturer_name).desc())\n",
    "    # return output\n",
    "\n",
    "\n",
    "def saver (df: DataFrame, name_fold ) -> None:\n",
    "    \"\"\" Сохранит полученные данные после агрегации \"\"\"\n",
    "    df.coalesce(2).write.mode(\"overwrite\").format(\"json\").save(name_fold)\n",
    "    \n",
    "\n",
    "def runer():\n",
    "    \"\"\"Стартует сессию \"\"\"\n",
    "    spark = SparkSession.builder.appName(\"Практика\").getOrCreate()\n",
    "    if saver(outputer(extractor(spark,'')),\"output.json.test\"):\n",
    "        spark.stop()\n",
    "\n",
    "\n",
    "if __name__ == \"__main__\":\n",
    "    runer()\n",
    "   "
   ]
  }
 ],
 "metadata": {
  "interpreter": {
   "hash": "8fce5fab8a8abfe6c74937164d4faac7fae86f57545289174780d0264d0db06d"
  },
  "kernelspec": {
   "display_name": "Python 3.8.10 64-bit ('envirment': venv)",
   "language": "python",
   "name": "python3"
  },
  "language_info": {
   "codemirror_mode": {
    "name": "ipython",
    "version": 3
   },
   "file_extension": ".py",
   "mimetype": "text/x-python",
   "name": "python",
   "nbconvert_exporter": "python",
   "pygments_lexer": "ipython3",
   "version": "3.8.10"
  },
  "orig_nbformat": 4
 },
 "nbformat": 4,
 "nbformat_minor": 2
}
